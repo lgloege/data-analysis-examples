{
 "cells": [
  {
   "cell_type": "markdown",
   "id": "e5d97eb0-d7b9-4f0c-b849-d86a0e780fd5",
   "metadata": {},
   "source": [
    "# 1.1 Process the PRIMAP data product\n",
    "\n",
    "[PRIMAP](https://zenodo.org/records/13752654) data repository"
   ]
  },
  {
   "cell_type": "code",
   "execution_count": null,
   "id": "a218ae11-9ff3-4af9-9ca1-7c18c6e17f8b",
   "metadata": {},
   "outputs": [],
   "source": [
    "import os\n",
    "from pathlib import Path\n",
    "\n",
    "import pandas as pd"
   ]
  },
  {
   "cell_type": "code",
   "execution_count": null,
   "id": "4fb02a2e-5536-4d68-9d1e-44b7c5dc24dd",
   "metadata": {},
   "outputs": [],
   "source": [
    "# load the data, here I am loading the data over HTTP\n",
    "data_url = \"https://zenodo.org/records/13752654/files/Guetschow_et_al_2024a-PRIMAP-hist_v2.6_final_13-Sep-2024.csv\"\n",
    "df_raw = pd.read_csv(data_url)"
   ]
  },
  {
   "cell_type": "code",
   "execution_count": null,
   "id": "f7cf7346-3d22-4c1f-9a28-ab698181d530",
   "metadata": {},
   "outputs": [],
   "source": [
    "# output directory\n",
    "processed_dir = Path(os.path.abspath(\"../data/processed/\"))\n",
    "processed_dir.mkdir(parents=True, exist_ok=True)"
   ]
  },
  {
   "cell_type": "code",
   "execution_count": null,
   "id": "77d27663-a5a7-441b-b0a3-a941a3ba3655",
   "metadata": {},
   "outputs": [],
   "source": [
    "df_raw.head()"
   ]
  },
  {
   "cell_type": "code",
   "execution_count": null,
   "id": "e73952cd-f0ef-4ef6-9c13-0060c43d5a52",
   "metadata": {},
   "outputs": [],
   "source": [
    "df_tmp = (\n",
    "    df_raw\n",
    "    .loc[df_raw[\"category (IPCC2006_PRIMAP)\"] == \"M.0.EL\"]\n",
    "    .loc[df_raw[\"entity\"] == \"KYOTOGHG (AR6GWP100)\"]\n",
    "    .loc[df_raw[\"scenario (PRIMAP-hist)\"]== \"HISTTP\"] # HISTTP is third party and HISTCR is crountry reported\n",
    "    .drop(columns=[\"source\", \"scenario (PRIMAP-hist)\", \"provenance\", \"category (IPCC2006_PRIMAP)\", \"unit\", \"entity\"])\n",
    "    .rename(columns={\"area (ISO3)\": \"iso3\"})\n",
    "    .sort_values(by=\"iso3\")\n",
    ")\n",
    "\n",
    "# ensure all column names are strings\n",
    "df_tmp.columns = df_tmp.columns.astype(str)\n",
    "\n",
    "# pivot the dataset (only select data from 1850 onwards)\n",
    "start_year = 1850\n",
    "id_vars = [val for val in list(df_tmp.columns) if not val.isdigit()]\n",
    "value_vars = [val for val in list(df_tmp.columns) if val.isdigit() and int(val)>=start_year]\n",
    "df_final = (\n",
    "    df_tmp[id_vars + value_vars]\n",
    "    .melt(id_vars=id_vars, value_vars=value_vars, var_name=\"year\", value_name=\"emissions_gg\")  \n",
    "    .sort_values(by=[\"iso3\", \"year\"])\n",
    "    .assign(emissions_gt=lambda x: x['emissions_gg'].apply(lambda val: val / 1000000))\n",
    "    .drop(columns=['emissions_gg'])\n",
    ")"
   ]
  },
  {
   "cell_type": "code",
   "execution_count": null,
   "id": "cc8225d2-ea9b-4b27-a20a-acdca6472e92",
   "metadata": {},
   "outputs": [],
   "source": [
    "df_final.to_csv(processed_dir / \"primap-histtp-ghg-without-lulucf-1850-2023.csv\", index=False)"
   ]
  }
 ],
 "metadata": {
  "kernelspec": {
   "display_name": "eds",
   "language": "python",
   "name": "eds"
  },
  "language_info": {
   "codemirror_mode": {
    "name": "ipython",
    "version": 3
   },
   "file_extension": ".py",
   "mimetype": "text/x-python",
   "name": "python",
   "nbconvert_exporter": "python",
   "pygments_lexer": "ipython3",
   "version": "3.12.7"
  }
 },
 "nbformat": 4,
 "nbformat_minor": 5
}
